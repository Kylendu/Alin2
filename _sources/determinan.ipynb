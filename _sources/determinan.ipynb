{
 "cells": [
  {
   "cell_type": "markdown",
   "metadata": {},
   "source": [
    "# Determinan\n",
    "Determinan matriks merupakan suatu nilai yang dihitung dari unsur-unsur matriks persegi.\n"
   ]
  },
  {
   "cell_type": "markdown",
   "metadata": {},
   "source": [
    "## Rumus Determinan Matrik\n",
    "$$\n",
    "A det=\\begin{bmatrix}\n",
    "a & b\\\\\n",
    "c & d \n",
    "\\end{bmatrix}\n",
    "\n",
    "= ad - bc$$\n"
   ]
  },
  {
   "cell_type": "markdown",
   "metadata": {},
   "source": [
    "## Sifat-sifat determinan\n",
    "1. jika didalam suatu matrik memiliki 2 baris dengan nilai yang sama maka hasilnya 0\n",
    "2. jika matrik b 2* matrik a itu bisa dihitung dengan rumus 2^3(ordo)* det a = det b\n",
    "3. jika matrik b colom pertama 2* matrik a colom pertama itu akan menghasilkan 2*det a"
   ]
  },
  {
   "cell_type": "code",
   "execution_count": 26,
   "metadata": {
    "metadata": {}
   },
   "outputs": [
    {
     "name": "stdout",
     "output_type": "stream",
     "text": [
      "#Determinan matrik identitas adalah 1.0\n",
      "jika matrik b 2* matrik a itu bisa dihitung dengan rumus 2^3(ordo)* det a = -19.999999999999996\n",
      "Jika salah satu baris di kali 2 maka hasilnya -10.0\n",
      "Jika colom dikalikan dengan 2 maka hasilnya -10.0\n",
      "Matrik D -3.0\n",
      "jika Matrik D barisnya di tukar 3.0\n",
      "determinan matrik f adalah 0.0\n",
      "determinan matrik g adalah 0.0\n",
      "determinan matrik h adalah 24.000000000000014\n",
      "ini determinan matrik segitiga atas 2.0\n",
      "ini determinan matrik segitiga bawah 2.0\n"
     ]
    }
   ],
   "source": [
    "import numpy as np\n",
    "\n",
    "#fungsi mencari determinan\n",
    "def det(matriks):\n",
    "    return np.linalg.det(matriks)\n",
    "\n",
    "x = np.array([[1,0],[0,1]]) #Determinan matrik identitas adalah 1\n",
    "c = np.array([[1,0,0],[0,1,0],[0,0,1]])\n",
    "print(f\"#Determinan matrik identitas adalah {det(x)}\")\n",
    "a = np.array([[3,4],[2,1]]) #-5\n",
    "b = np.array([[6,8],[4,2]]) #-20\n",
    "print(f\"jika matrik b 2* matrik a itu bisa dihitung dengan rumus 2^3(ordo)* det a = {det(b)}\")\n",
    "i = np.array([[6,8],[2,1]])\n",
    "print('Jika salah satu baris di kali 2 maka hasilnya', det(i).round())\n",
    "j = np.array([[6,4],[4,1]])\n",
    "print('Jika colom dikalikan dengan 2 maka hasilnya', det(j).round())\n",
    "d = np.array([[1,2,1],[3,1,2],[2,1,2]])\n",
    "print(f\"Matrik D {det(d).round()}\")\n",
    "e = np.array([[3,1,2],[1,2,1],[2,1,2]])\n",
    "print(f'jika Matrik D barisnya di tukar {det(e).round()}')\n",
    "\n",
    "f = np.array([[1,2,1],[2,4,2],[2,1,2]])\n",
    "print('determinan matrik f adalah', det(f))\n",
    "g = np.array([[1,2,1],[2,4,2],[2,4,3]]) \n",
    "print('determinan matrik g adalah', det(g))\n",
    "h = np.array([[6,2,4],[2,4,2],[4,2,4]]) \n",
    "print('determinan matrik h adalah', det(h))\n",
    "\n",
    "k = np.array([[4,1],[2,1]]) \n",
    "l = np.array([[7,5],[2,1]])\n",
    "\n",
    "# Matrik segitiga atas\n",
    "m = np.array([[1,3,2],[0,2,2],[0,0,1]])\n",
    "print(\"ini determinan matrik segitiga atas\",det(m))\n",
    "# Matrik segitiga bawah\n",
    "n = np.array([[1,0,0],[1,2,0],[1,2,1]])\n",
    "print(\"ini determinan matrik segitiga bawah\",det(n))\n"
   ]
  }
 ],
 "metadata": {
  "kernelspec": {
   "display_name": "Python 3",
   "language": "python",
   "name": "python3"
  },
  "language_info": {
   "codemirror_mode": {
    "name": "ipython",
    "version": 3
   },
   "file_extension": ".py",
   "mimetype": "text/x-python",
   "name": "python",
   "nbconvert_exporter": "python",
   "pygments_lexer": "ipython3",
   "version": "3.10.13"
  }
 },
 "nbformat": 4,
 "nbformat_minor": 2
}
